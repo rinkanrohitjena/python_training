{
 "cells": [
  {
   "cell_type": "code",
   "execution_count": null,
   "metadata": {},
   "outputs": [],
   "source": [
    "# Python code for Mandelbrot Fractal\n",
    "\n",
    "# Import necessary libraries\n",
    "from PIL import Image\n",
    "from numpy import complex, array\n",
    "import colorsys\n",
    "\n",
    "# setting the width of the output image as 1024\n",
    "WIDTH = 1024\n",
    "\n",
    "# a function to return a tuple of colors\n",
    "# as integer value of rgb\n",
    "\n",
    "\n",
    "def rgb_conv(i):\n",
    "    color = 255 * array(colorsys.hsv_to_rgb(i / 255.0, 1.0, 0.5))\n",
    "    return tuple(color.astype(int))\n",
    "\n",
    "# function defining a mandelbrot\n",
    "\n",
    "\n",
    "def mandelbrot(x, y):\n",
    "    c0 = complex(x, y)\n",
    "    c = 0\n",
    "    for i in range(1, 1000):\n",
    "        if abs(c) > 2:\n",
    "            return rgb_conv(i)\n",
    "        c = c * c + c0\n",
    "    return (0, 0, 0)\n",
    "\n",
    "\n",
    "# creating the new image in RGB mode\n",
    "img = Image.new('RGB', (WIDTH, int(WIDTH / 2)))\n",
    "pixels = img.load()\n",
    "\n",
    "for x in range(img.size[0]):\n",
    "\n",
    "    # displaying the progress as percentage\n",
    "    print(\"%.2f %%\" % (x / WIDTH * 100.0))\n",
    "    for y in range(img.size[1]):\n",
    "        pixels[x, y] = mandelbrot((x - (0.75 * WIDTH)) / (WIDTH / 4),\n",
    "                                  (y - (WIDTH / 4)) / (WIDTH / 4))\n",
    "\n",
    "# to display the created fractal after\n",
    "# completing the given number of iterations\n",
    "img.show()\n"
   ]
  },
  {
   "cell_type": "code",
   "execution_count": null,
   "metadata": {},
   "outputs": [],
   "source": []
  },
  {
   "cell_type": "code",
   "execution_count": null,
   "metadata": {},
   "outputs": [],
   "source": []
  }
 ],
 "metadata": {
  "kernelspec": {
   "display_name": "Python 3",
   "language": "python",
   "name": "python3"
  }
 },
 "nbformat": 4,
 "nbformat_minor": 2
}
